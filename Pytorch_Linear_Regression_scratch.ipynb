{
 "cells": [
  {
   "cell_type": "code",
   "execution_count": 1,
   "id": "described-warrant",
   "metadata": {},
   "outputs": [],
   "source": [
    "import numpy as np\n",
    "import torch "
   ]
  },
  {
   "cell_type": "markdown",
   "id": "spoken-plain",
   "metadata": {},
   "source": [
    "# In this tutorial we are trying to use custom dataset to predict the crops yields for apple and orange ( target variables )\n",
    "# Considering Temp, raifall and humidiy (input variable )"
   ]
  },
  {
   "cell_type": "markdown",
   "id": "separate-railway",
   "metadata": {},
   "source": [
    "## yield_apple = w11 * temp + w12 * rainfall + w13 * humidity + b1\n",
    "\n",
    "## yield_orange= w21 * temp + w22 * rainfall + w23 * humidity + b2"
   ]
  },
  {
   "cell_type": "markdown",
   "id": "express-sunset",
   "metadata": {},
   "source": [
    "## Training Data"
   ]
  },
  {
   "cell_type": "code",
   "execution_count": 2,
   "id": "animated-active",
   "metadata": {},
   "outputs": [],
   "source": [
    "# input (temp, rainfall, humidity )"
   ]
  },
  {
   "cell_type": "code",
   "execution_count": 4,
   "id": "standing-spanish",
   "metadata": {},
   "outputs": [],
   "source": [
    "inputs = np.array([ [ 73,67,43 ],\n",
    "                    [91,88,64],\n",
    "                   [87,134,58],\n",
    "                   [102,43,37],\n",
    "                   [69,96,70]                  \n",
    "                  ], dtype='float32')"
   ]
  },
  {
   "cell_type": "code",
   "execution_count": 5,
   "id": "alpha-creativity",
   "metadata": {},
   "outputs": [],
   "source": [
    "#Target variables ( apples, oranges)\n",
    "target = np.array([[56,70], [81,101],[119,133],[22,37],[103,119]], dtype='float32')"
   ]
  },
  {
   "cell_type": "code",
   "execution_count": 7,
   "id": "rental-miracle",
   "metadata": {},
   "outputs": [
    {
     "data": {
      "text/plain": [
       "array([[ 73.,  67.,  43.],\n",
       "       [ 91.,  88.,  64.],\n",
       "       [ 87., 134.,  58.],\n",
       "       [102.,  43.,  37.],\n",
       "       [ 69.,  96.,  70.]], dtype=float32)"
      ]
     },
     "execution_count": 7,
     "metadata": {},
     "output_type": "execute_result"
    }
   ],
   "source": [
    "inputs"
   ]
  },
  {
   "cell_type": "code",
   "execution_count": 8,
   "id": "decimal-patrol",
   "metadata": {},
   "outputs": [
    {
     "data": {
      "text/plain": [
       "array([[ 56.,  70.],\n",
       "       [ 81., 101.],\n",
       "       [119., 133.],\n",
       "       [ 22.,  37.],\n",
       "       [103., 119.]], dtype=float32)"
      ]
     },
     "execution_count": 8,
     "metadata": {},
     "output_type": "execute_result"
    }
   ],
   "source": [
    "target"
   ]
  },
  {
   "cell_type": "code",
   "execution_count": 9,
   "id": "pursuant-superintendent",
   "metadata": {},
   "outputs": [],
   "source": [
    "#Convert inputs and targetsto tensors\n",
    "inputs = torch.from_numpy(inputs)\n",
    "targets = torch.from_numpy(target)"
   ]
  },
  {
   "cell_type": "code",
   "execution_count": 11,
   "id": "ignored-target",
   "metadata": {},
   "outputs": [
    {
     "data": {
      "text/plain": [
       "tensor([[ 73.,  67.,  43.],\n",
       "        [ 91.,  88.,  64.],\n",
       "        [ 87., 134.,  58.],\n",
       "        [102.,  43.,  37.],\n",
       "        [ 69.,  96.,  70.]])"
      ]
     },
     "execution_count": 11,
     "metadata": {},
     "output_type": "execute_result"
    }
   ],
   "source": [
    "inputs"
   ]
  },
  {
   "cell_type": "code",
   "execution_count": 13,
   "id": "robust-extra",
   "metadata": {},
   "outputs": [
    {
     "data": {
      "text/plain": [
       "tensor([[ 56.,  70.],\n",
       "        [ 81., 101.],\n",
       "        [119., 133.],\n",
       "        [ 22.,  37.],\n",
       "        [103., 119.]])"
      ]
     },
     "execution_count": 13,
     "metadata": {},
     "output_type": "execute_result"
    }
   ],
   "source": [
    "targets"
   ]
  },
  {
   "cell_type": "markdown",
   "id": "closing-legend",
   "metadata": {},
   "source": [
    "##  Initialize weight and bias"
   ]
  },
  {
   "cell_type": "code",
   "execution_count": 16,
   "id": "serious-hardwood",
   "metadata": {},
   "outputs": [],
   "source": [
    "w = torch.randn(2, 3, requires_grad=True)\n",
    "b = torch.randn(2, requires_grad=True)"
   ]
  },
  {
   "cell_type": "code",
   "execution_count": 17,
   "id": "leading-horror",
   "metadata": {},
   "outputs": [
    {
     "data": {
      "text/plain": [
       "tensor([[-1.5473,  0.5842,  0.5340],\n",
       "        [-0.1562,  0.3747, -0.6844]], requires_grad=True)"
      ]
     },
     "execution_count": 17,
     "metadata": {},
     "output_type": "execute_result"
    }
   ],
   "source": [
    "w"
   ]
  },
  {
   "cell_type": "code",
   "execution_count": 18,
   "id": "adjustable-enzyme",
   "metadata": {},
   "outputs": [
    {
     "data": {
      "text/plain": [
       "tensor([-1.5795,  0.5361], requires_grad=True)"
      ]
     },
     "execution_count": 18,
     "metadata": {},
     "output_type": "execute_result"
    }
   ],
   "source": [
    "b"
   ]
  },
  {
   "cell_type": "code",
   "execution_count": 19,
   "id": "together-confirmation",
   "metadata": {},
   "outputs": [],
   "source": [
    "def model(x):\n",
    "    \"\"\" x * Transpose of W + b\"\"\"\n",
    "    return x @ w.t() + b"
   ]
  },
  {
   "cell_type": "code",
   "execution_count": 23,
   "id": "compound-aquatic",
   "metadata": {},
   "outputs": [],
   "source": [
    "def mse(t1, t2):\n",
    "    diff = t1 - t2\n",
    "    return torch.sum( diff * diff ) / diff.numel()"
   ]
  },
  {
   "cell_type": "markdown",
   "id": "christian-vehicle",
   "metadata": {},
   "source": [
    "## 1. Generate Prediction\n",
    "## 2. Calculate the loss\n",
    "## 3. Computer gradient with respect to weights and biases\n",
    "## 4. Adjust weight by subtract \n",
    "## 5. rest gradient to zero"
   ]
  },
  {
   "cell_type": "code",
   "execution_count": 24,
   "id": "junior-lottery",
   "metadata": {},
   "outputs": [],
   "source": [
    "for i in range(100):\n",
    "    preds = model(inputs)\n",
    "    loss = mse(preds, targets)\n",
    "    loss.backward()\n",
    "    with torch.no_grad():\n",
    "        w-=w.grad*1e-5\n",
    "        b-=b.grad*1e-5\n",
    "        w.grad.zero_()\n",
    "        b.grad.zero_()\n",
    "        "
   ]
  },
  {
   "cell_type": "code",
   "execution_count": 25,
   "id": "limited-judgment",
   "metadata": {},
   "outputs": [
    {
     "data": {
      "text/plain": [
       "tensor([[ 53.8656,  73.5257],\n",
       "        [ 81.3688,  94.0096],\n",
       "        [125.8988, 142.9373],\n",
       "        [  3.5721,  54.2944],\n",
       "        [110.3703,  97.5739]], grad_fn=<AddBackward0>)"
      ]
     },
     "execution_count": 25,
     "metadata": {},
     "output_type": "execute_result"
    }
   ],
   "source": [
    "preds"
   ]
  },
  {
   "cell_type": "code",
   "execution_count": 26,
   "id": "foster-representation",
   "metadata": {},
   "outputs": [
    {
     "data": {
      "text/plain": [
       "tensor([[ 56.,  70.],\n",
       "        [ 81., 101.],\n",
       "        [119., 133.],\n",
       "        [ 22.,  37.],\n",
       "        [103., 119.]])"
      ]
     },
     "execution_count": 26,
     "metadata": {},
     "output_type": "execute_result"
    }
   ],
   "source": [
    "targets"
   ]
  }
 ],
 "metadata": {
  "kernelspec": {
   "display_name": "Python 3",
   "language": "python",
   "name": "python3"
  },
  "language_info": {
   "codemirror_mode": {
    "name": "ipython",
    "version": 3
   },
   "file_extension": ".py",
   "mimetype": "text/x-python",
   "name": "python",
   "nbconvert_exporter": "python",
   "pygments_lexer": "ipython3",
   "version": "3.8.10"
  }
 },
 "nbformat": 4,
 "nbformat_minor": 5
}
